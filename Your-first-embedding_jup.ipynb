{
 "cells": [
  {
   "cell_type": "markdown",
   "metadata": {},
   "source": [
    "# Your first embedding"
   ]
  },
  {
   "cell_type": "markdown",
   "metadata": {},
   "source": [
    "## Exercise objectives:"
   ]
  },
  {
   "cell_type": "markdown",
   "metadata": {},
   "source": [
    "- Run your first RNN for NLP\n",
    "- Get a first taste of what an embedding is\n",
    "\n",
    "<hr>\n",
    "\n",
    "Words are not something you can easily feed to a Neural Network. For this reason, we have to convert them to something more meaningful. \n",
    "\n",
    "And this is exactly what _Embeddings_ are for! They map any word onto a vectorial representation (this a fancy way to represent each word with a vector ;) ). For instance, the word `dog` can be represented by the vector $(w_1, w_2, ..., w_n)$ in the embedding space, and we will learn the weights $(w_k)_k$.\n",
    "\n",
    "So let's just do it."
   ]
  },
  {
   "cell_type": "markdown",
   "metadata": {},
   "source": [
    "# The data"
   ]
  },
  {
   "cell_type": "markdown",
   "metadata": {},
   "source": [
    "❓ **Question** ❓ Let's first load the data. You don't have to understand what is going on in the function, it does not matter here.\n",
    "\n",
    "⚠️ **Warning** ⚠️ The `load_data` function has a `percentage_of_sentences` argument. Depending on your computer, there are chances that too many sentences will make your compute slow down, or even freeze - your RAM can overflow. For that reason, **you should start with 10% of the sentences** and see if your computer handles it. Otherwise, rerun with a lower number. \n",
    "\n",
    "⚠️ **DISCLAIMER** ⚠️ **No need to play _who has the biggest_ (RAM) !** The idea is to get to run your models quickly to prototype. Even in real life, it is recommended that you start with a subset of your data to loop and debug quickly. So increase the number only if you are into getting the best accuracy. "
   ]
  },
  {
   "cell_type": "code",
   "execution_count": 1,
   "metadata": {},
   "outputs": [
    {
     "name": "stderr",
     "output_type": "stream",
     "text": [
      "2024-11-28 12:02:21.256990: I tensorflow/core/platform/cpu_feature_guard.cc:193] This TensorFlow binary is optimized with oneAPI Deep Neural Network Library (oneDNN) to use the following CPU instructions in performance-critical operations:  AVX2 FMA\n",
      "To enable them in other operations, rebuild TensorFlow with the appropriate compiler flags.\n",
      "2024-11-28 12:02:28.076031: W tensorflow/core/platform/cloud/google_auth_provider.cc:184] All attempts to get a Google authentication bearer token failed, returning an empty token. Retrieving token from files failed with \"NOT_FOUND: Could not locate the credentials file.\". Retrieving token from GCE failed with \"FAILED_PRECONDITION: Error executing an HTTP request: libcurl code 6 meaning 'Couldn't resolve host name', error details: Could not resolve host: metadata\".\n"
     ]
    },
    {
     "name": "stdout",
     "output_type": "stream",
     "text": [
      "\u001b[1mDownloading and preparing dataset 80.23 MiB (download: 80.23 MiB, generated: Unknown size, total: 80.23 MiB) to ~/tensorflow_datasets/imdb_reviews/plain_text/1.0.0...\u001b[0m\n"
     ]
    },
    {
     "data": {
      "application/vnd.jupyter.widget-view+json": {
       "model_id": "bd6b0239ed5143f88b1be37c3a28009d",
       "version_major": 2,
       "version_minor": 0
      },
      "text/plain": [
       "Dl Completed...: 0 url [00:00, ? url/s]"
      ]
     },
     "metadata": {},
     "output_type": "display_data"
    },
    {
     "data": {
      "application/vnd.jupyter.widget-view+json": {
       "model_id": "cd9af20543aa4a7eb44c9685e401dc8a",
       "version_major": 2,
       "version_minor": 0
      },
      "text/plain": [
       "Dl Size...: 0 MiB [00:00, ? MiB/s]"
      ]
     },
     "metadata": {},
     "output_type": "display_data"
    },
    {
     "data": {
      "application/vnd.jupyter.widget-view+json": {
       "model_id": "",
       "version_major": 2,
       "version_minor": 0
      },
      "text/plain": [
       "Generating splits...:   0%|          | 0/3 [00:00<?, ? splits/s]"
      ]
     },
     "metadata": {},
     "output_type": "display_data"
    },
    {
     "data": {
      "application/vnd.jupyter.widget-view+json": {
       "model_id": "",
       "version_major": 2,
       "version_minor": 0
      },
      "text/plain": [
       "Generating train examples...:   0%|          | 0/25000 [00:00<?, ? examples/s]"
      ]
     },
     "metadata": {},
     "output_type": "display_data"
    },
    {
     "data": {
      "application/vnd.jupyter.widget-view+json": {
       "model_id": "",
       "version_major": 2,
       "version_minor": 0
      },
      "text/plain": [
       "Shuffling ~/tensorflow_datasets/imdb_reviews/plain_text/1.0.0.incompleteWYVLP1/imdb_reviews-train.tfrecord*...…"
      ]
     },
     "metadata": {},
     "output_type": "display_data"
    },
    {
     "data": {
      "application/vnd.jupyter.widget-view+json": {
       "model_id": "",
       "version_major": 2,
       "version_minor": 0
      },
      "text/plain": [
       "Generating test examples...:   0%|          | 0/25000 [00:00<?, ? examples/s]"
      ]
     },
     "metadata": {},
     "output_type": "display_data"
    },
    {
     "data": {
      "application/vnd.jupyter.widget-view+json": {
       "model_id": "",
       "version_major": 2,
       "version_minor": 0
      },
      "text/plain": [
       "Shuffling ~/tensorflow_datasets/imdb_reviews/plain_text/1.0.0.incompleteWYVLP1/imdb_reviews-test.tfrecord*...:…"
      ]
     },
     "metadata": {},
     "output_type": "display_data"
    },
    {
     "data": {
      "application/vnd.jupyter.widget-view+json": {
       "model_id": "",
       "version_major": 2,
       "version_minor": 0
      },
      "text/plain": [
       "Generating unsupervised examples...:   0%|          | 0/50000 [00:00<?, ? examples/s]"
      ]
     },
     "metadata": {},
     "output_type": "display_data"
    },
    {
     "data": {
      "application/vnd.jupyter.widget-view+json": {
       "model_id": "",
       "version_major": 2,
       "version_minor": 0
      },
      "text/plain": [
       "Shuffling ~/tensorflow_datasets/imdb_reviews/plain_text/1.0.0.incompleteWYVLP1/imdb_reviews-unsupervised.tfrec…"
      ]
     },
     "metadata": {},
     "output_type": "display_data"
    },
    {
     "name": "stdout",
     "output_type": "stream",
     "text": [
      "\u001b[1mDataset imdb_reviews downloaded and prepared to ~/tensorflow_datasets/imdb_reviews/plain_text/1.0.0. Subsequent calls will reuse this data.\u001b[0m\n"
     ]
    },
    {
     "name": "stderr",
     "output_type": "stream",
     "text": [
      "2024-11-28 12:03:06.197777: I tensorflow/core/platform/cpu_feature_guard.cc:193] This TensorFlow binary is optimized with oneAPI Deep Neural Network Library (oneDNN) to use the following CPU instructions in performance-critical operations:  AVX2 FMA\n",
      "To enable them in other operations, rebuild TensorFlow with the appropriate compiler flags.\n"
     ]
    }
   ],
   "source": [
    "###########################################\n",
    "### Just run this cell to load the data ###\n",
    "###########################################\n",
    "\n",
    "import tensorflow_datasets as tfds\n",
    "from tensorflow.keras.preprocessing.text import text_to_word_sequence\n",
    "\n",
    "def load_data(percentage_of_sentences=None):\n",
    "    train_data, test_data = tfds.load(name=\"imdb_reviews\", split=[\"train\", \"test\"], batch_size=-1, as_supervised=True)\n",
    "\n",
    "    train_sentences, y_train = tfds.as_numpy(train_data)\n",
    "    test_sentences, y_test = tfds.as_numpy(test_data)\n",
    "    \n",
    "    # Take only a given percentage of the entire data\n",
    "    if percentage_of_sentences is not None:\n",
    "        assert(percentage_of_sentences> 0 and percentage_of_sentences<=100)\n",
    "        \n",
    "        len_train = int(percentage_of_sentences/100*len(train_sentences))\n",
    "        train_sentences, y_train = train_sentences[:len_train], y_train[:len_train]\n",
    "  \n",
    "        len_test = int(percentage_of_sentences/100*len(test_sentences))\n",
    "        test_sentences, y_test = test_sentences[:len_test], y_test[:len_test]\n",
    "    \n",
    "    X_train = [text_to_word_sequence(_.decode(\"utf-8\")) for _ in train_sentences]\n",
    "    X_test = [text_to_word_sequence(_.decode(\"utf-8\")) for _ in test_sentences]\n",
    "    \n",
    "    return X_train, y_train, X_test, y_test\n",
    "\n",
    "X_train, y_train, X_test, y_test = load_data(percentage_of_sentences=10)"
   ]
  },
  {
   "cell_type": "markdown",
   "metadata": {},
   "source": [
    "Now that you have loaded the data, let's check it out!\n",
    "\n",
    "❓ **Question** ❓ You can play with the data here. In particular, `X_train` and `X_test` are lists of sentences. Let's print some of them, with their respective label stored in `y_train` and `y_test`."
   ]
  },
  {
   "cell_type": "code",
   "execution_count": 2,
   "metadata": {
    "tags": [
     "challengify"
    ]
   },
   "outputs": [
    {
     "name": "stdout",
     "output_type": "stream",
     "text": [
      "Training datas:\n",
      "Sentence 1: ['this', 'was', 'an', 'absolutely', 'terrible', 'movie', \"don't\", 'be', 'lured', 'in', 'by', 'christopher', 'walken', 'or', 'michael', 'ironside', 'both', 'are', 'great', 'actors', 'but', 'this', 'must', 'simply', 'be', 'their', 'worst', 'role', 'in', 'history', 'even', 'their', 'great', 'acting', 'could', 'not', 'redeem', 'this', \"movie's\", 'ridiculous', 'storyline', 'this', 'movie', 'is', 'an', 'early', 'nineties', 'us', 'propaganda', 'piece', 'the', 'most', 'pathetic', 'scenes', 'were', 'those', 'when', 'the', 'columbian', 'rebels', 'were', 'making', 'their', 'cases', 'for', 'revolutions', 'maria', 'conchita', 'alonso', 'appeared', 'phony', 'and', 'her', 'pseudo', 'love', 'affair', 'with', 'walken', 'was', 'nothing', 'but', 'a', 'pathetic', 'emotional', 'plug', 'in', 'a', 'movie', 'that', 'was', 'devoid', 'of', 'any', 'real', 'meaning', 'i', 'am', 'disappointed', 'that', 'there', 'are', 'movies', 'like', 'this', 'ruining', \"actor's\", 'like', 'christopher', \"walken's\", 'good', 'name', 'i', 'could', 'barely', 'sit', 'through', 'it']\n",
      "Label 1: 0\n",
      "Sentence 2: ['i', 'have', 'been', 'known', 'to', 'fall', 'asleep', 'during', 'films', 'but', 'this', 'is', 'usually', 'due', 'to', 'a', 'combination', 'of', 'things', 'including', 'really', 'tired', 'being', 'warm', 'and', 'comfortable', 'on', 'the', 'sette', 'and', 'having', 'just', 'eaten', 'a', 'lot', 'however', 'on', 'this', 'occasion', 'i', 'fell', 'asleep', 'because', 'the', 'film', 'was', 'rubbish', 'the', 'plot', 'development', 'was', 'constant', 'constantly', 'slow', 'and', 'boring', 'things', 'seemed', 'to', 'happen', 'but', 'with', 'no', 'explanation', 'of', 'what', 'was', 'causing', 'them', 'or', 'why', 'i', 'admit', 'i', 'may', 'have', 'missed', 'part', 'of', 'the', 'film', 'but', 'i', 'watched', 'the', 'majority', 'of', 'it', 'and', 'everything', 'just', 'seemed', 'to', 'happen', 'of', 'its', 'own', 'accord', 'without', 'any', 'real', 'concern', 'for', 'anything', 'else', 'i', 'cant', 'recommend', 'this', 'film', 'at', 'all']\n",
      "Label 2: 0\n",
      "Sentence 3: ['mann', 'photographs', 'the', 'alberta', 'rocky', 'mountains', 'in', 'a', 'superb', 'fashion', 'and', 'jimmy', 'stewart', 'and', 'walter', 'brennan', 'give', 'enjoyable', 'performances', 'as', 'they', 'always', 'seem', 'to', 'do', 'br', 'br', 'but', 'come', 'on', 'hollywood', 'a', 'mountie', 'telling', 'the', 'people', 'of', 'dawson', 'city', 'yukon', 'to', 'elect', 'themselves', 'a', 'marshal', 'yes', 'a', 'marshal', 'and', 'to', 'enforce', 'the', 'law', 'themselves', 'then', 'gunfighters', 'battling', 'it', 'out', 'on', 'the', 'streets', 'for', 'control', 'of', 'the', 'town', 'br', 'br', 'nothing', 'even', 'remotely', 'resembling', 'that', 'happened', 'on', 'the', 'canadian', 'side', 'of', 'the', 'border', 'during', 'the', 'klondike', 'gold', 'rush', 'mr', 'mann', 'and', 'company', 'appear', 'to', 'have', 'mistaken', 'dawson', 'city', 'for', 'deadwood', 'the', 'canadian', 'north', 'for', 'the', 'american', 'wild', 'west', 'br', 'br', 'canadian', 'viewers', 'be', 'prepared', 'for', 'a', 'reefer', 'madness', 'type', 'of', 'enjoyable', 'howl', 'with', 'this', 'ludicrous', 'plot', 'or', 'to', 'shake', 'your', 'head', 'in', 'disgust']\n",
      "Label 3: 0\n",
      "Sentence 4: ['this', 'is', 'the', 'kind', 'of', 'film', 'for', 'a', 'snowy', 'sunday', 'afternoon', 'when', 'the', 'rest', 'of', 'the', 'world', 'can', 'go', 'ahead', 'with', 'its', 'own', 'business', 'as', 'you', 'descend', 'into', 'a', 'big', 'arm', 'chair', 'and', 'mellow', 'for', 'a', 'couple', 'of', 'hours', 'wonderful', 'performances', 'from', 'cher', 'and', 'nicolas', 'cage', 'as', 'always', 'gently', 'row', 'the', 'plot', 'along', 'there', 'are', 'no', 'rapids', 'to', 'cross', 'no', 'dangerous', 'waters', 'just', 'a', 'warm', 'and', 'witty', 'paddle', 'through', 'new', 'york', 'life', 'at', 'its', 'best', 'a', 'family', 'film', 'in', 'every', 'sense', 'and', 'one', 'that', 'deserves', 'the', 'praise', 'it', 'received']\n",
      "Label 4: 1\n",
      "Sentence 5: ['as', 'others', 'have', 'mentioned', 'all', 'the', 'women', 'that', 'go', 'nude', 'in', 'this', 'film', 'are', 'mostly', 'absolutely', 'gorgeous', 'the', 'plot', 'very', 'ably', 'shows', 'the', 'hypocrisy', 'of', 'the', 'female', 'libido', 'when', 'men', 'are', 'around', 'they', 'want', 'to', 'be', 'pursued', 'but', 'when', 'no', 'men', 'are', 'around', 'they', 'become', 'the', 'pursuers', 'of', 'a', '14', 'year', 'old', 'boy', 'and', 'the', 'boy', 'becomes', 'a', 'man', 'really', 'fast', 'we', 'should', 'all', 'be', 'so', 'lucky', 'at', 'this', 'age', 'he', 'then', 'gets', 'up', 'the', 'courage', 'to', 'pursue', 'his', 'true', 'love']\n",
      "Label 5: 1\n",
      "\n",
      "Test data:\n",
      "Sentence 1: ['there', 'are', 'films', 'that', 'make', 'careers', 'for', 'george', 'romero', 'it', 'was', 'night', 'of', 'the', 'living', 'dead', 'for', 'kevin', 'smith', 'clerks', 'for', 'robert', 'rodriguez', 'el', 'mariachi', 'add', 'to', 'that', 'list', 'onur', \"tukel's\", 'absolutely', 'amazing', 'ding', 'a', 'ling', 'less', 'flawless', 'film', 'making', 'and', 'as', 'assured', 'and', 'as', 'professional', 'as', 'any', 'of', 'the', 'aforementioned', 'movies', 'i', \"haven't\", 'laughed', 'this', 'hard', 'since', 'i', 'saw', 'the', 'full', 'monty', 'and', 'even', 'then', 'i', \"don't\", 'think', 'i', 'laughed', 'quite', 'this', 'hard', 'so', 'to', 'speak', \"tukel's\", 'talent', 'is', 'considerable', 'ding', 'a', 'ling', 'less', 'is', 'so', 'chock', 'full', 'of', 'double', 'entendres', 'that', 'one', 'would', 'have', 'to', 'sit', 'down', 'with', 'a', 'copy', 'of', 'this', 'script', 'and', 'do', 'a', 'line', 'by', 'line', 'examination', 'of', 'it', 'to', 'fully', 'appreciate', 'the', 'uh', 'breadth', 'and', 'width', 'of', 'it', 'every', 'shot', 'is', 'beautifully', 'composed', 'a', 'clear', 'sign', 'of', 'a', 'sure', 'handed', 'director', 'and', 'the', 'performances', 'all', 'around', 'are', 'solid', \"there's\", 'none', 'of', 'the', 'over', 'the', 'top', 'scenery', 'chewing', 'one', \"might've\", 'expected', 'from', 'a', 'film', 'like', 'this', 'ding', 'a', 'ling', 'less', 'is', 'a', 'film', 'whose', 'time', 'has', 'come']\n",
      "Label 1: 1\n",
      "Sentence 2: ['a', 'blackly', 'comic', 'tale', 'of', 'a', 'down', 'trodden', 'priest', 'nazarin', 'showcases', 'the', 'economy', 'that', 'luis', 'bunuel', 'was', 'able', 'to', 'achieve', 'in', 'being', 'able', 'to', 'tell', 'a', 'deeply', 'humanist', 'fable', 'with', 'a', 'minimum', 'of', 'fuss', 'as', 'an', 'output', 'from', 'his', 'mexican', 'era', 'of', 'film', 'making', 'it', 'was', 'an', 'invaluable', 'talent', 'to', 'possess', 'with', 'little', 'money', 'and', 'extremely', 'tight', 'schedules', 'nazarin', 'however', 'surpasses', 'many', 'of', \"bunuel's\", 'previous', 'mexican', 'films', 'in', 'terms', 'of', 'the', 'acting', 'francisco', 'rabal', 'is', 'excellent', 'narrative', 'and', 'theme', 'br', 'br', 'the', 'theme', 'interestingly', 'is', 'something', 'that', 'was', 'explored', 'again', 'in', 'viridiana', 'made', 'three', 'years', 'later', 'in', 'spain', 'it', 'concerns', 'the', \"individual's\", 'struggle', 'for', 'humanity', 'and', 'altruism', 'amongst', 'a', 'society', 'that', 'rejects', 'any', 'notion', 'of', 'virtue', 'father', 'nazarin', 'however', 'is', 'portrayed', 'more', 'sympathetically', 'than', 'sister', 'viridiana', 'whereas', 'the', 'latter', 'seems', 'to', 'choose', 'charity', 'because', 'she', 'wishes', 'to', 'atone', 'for', 'her', 'perceived', 'sins', \"nazarin's\", 'whole', 'existence', 'and', 'reason', 'for', 'being', 'seems', 'to', 'be', 'to', 'help', 'others', 'whether', 'they', 'or', 'we', 'like', 'it', 'or', 'not', 'the', \"film's\", 'last', 'scenes', 'in', 'which', 'he', 'casts', 'doubt', 'on', 'his', 'behaviour', 'and', 'in', 'a', 'split', 'second', 'has', 'to', 'choose', 'between', 'the', 'life', 'he', 'has', 'been', 'leading', 'or', 'the', 'conventional', 'life', 'that', 'is', 'expected', 'of', 'a', 'priest', 'are', 'so', 'emotional', 'because', 'they', 'concern', 'his', 'moral', 'integrity', 'and', 'we', 'are', 'never', 'quite', 'sure', 'whether', 'it', 'remains', 'intact', 'or', 'not', 'br', 'br', 'this', 'is', 'a', 'remarkable', 'film', 'and', 'i', 'would', 'urge', 'anyone', 'interested', 'in', 'classic', 'cinema', 'to', 'seek', 'it', 'out', 'it', 'is', 'one', 'of', \"bunuel's\", 'most', 'moving', 'films', 'and', 'encapsulates', 'many', 'of', 'his', 'obsessions', 'frustrated', 'desire', 'mad', 'love', 'religious', 'hypocrisy', 'etc', 'in', 'my', 'view', \"'nazarin'\", 'is', 'second', 'only', 'to', \"'the\", 'exterminating', \"angel'\", 'in', 'terms', 'of', 'his', 'mexican', 'movies', 'and', 'is', 'certainly', 'near', 'the', 'top', 'of', 'the', 'list', 'of', \"bunuel's\", 'total', 'filmic', 'output']\n",
      "Label 2: 1\n",
      "Sentence 3: ['scary', 'movie', '1', '4', 'epic', 'movie', 'date', 'movie', 'meet', 'the', 'spartans', 'not', 'another', 'teen', 'movie', 'and', 'another', 'gay', 'movie', 'making', 'superhero', 'movie', 'the', 'eleventh', 'in', 'a', 'series', 'that', 'single', 'handily', 'ruined', 'the', 'parody', 'genre', 'now', \"i'll\", 'admit', 'it', 'i', 'have', 'a', 'soft', 'spot', 'for', 'classics', 'such', 'as', 'airplane', 'and', 'the', 'naked', 'gun', 'but', 'you', 'know', \"you've\", 'milked', 'a', 'franchise', 'so', 'bad', 'when', 'you', 'can', 'see', 'the', 'gags', 'a', 'mile', 'off', 'in', 'fact', 'the', 'only', 'thing', 'that', 'might', 'really', 'temp', 'you', 'into', 'going', 'to', 'see', 'this', 'disaster', 'is', 'the', 'incredibly', 'funny', 'but', 'massive', 'sell', 'out', 'leslie', 'neilson', 'br', 'br', 'you', 'can', 'tell', 'he', 'needs', 'the', 'money', 'wither', 'that', 'or', 'he', 'intends', 'to', 'go', 'down', 'with', 'the', 'ship', 'like', 'a', 'good', 'capitan', 'would', 'in', 'no', 'way', 'is', 'he', 'bringing', 'down', 'this', 'genre', 'but', 'hell', \"he's\", 'not', 'helping', 'it', 'but', 'if', 'i', 'feel', 'sorry', 'for', 'anybody', 'in', 'this', 'film', 'its', 'decent', 'actor', 'drake', 'bell', 'who', 'is', 'put', 'through', 'an', 'immense', 'amount', 'of', 'embarrassment', 'the', 'people', 'who', 'are', 'put', 'through', 'the', 'largest', 'amount', 'of', 'torture', 'by', 'far', 'however', 'is', 'the', 'audience', 'forced', 'to', 'sit', 'through', '90', 'minutes', 'of', 'laughless', 'bile', 'no', 'funnier', 'than', 'herpes', 'br', 'br', 'after', 'spoofing', 'disaster', 'films', 'in', 'airplane', 'police', 'shows', 'in', 'the', 'naked', 'gun', 'and', 'hollywood', 'horrors', 'in', 'scary', 'movie', '3', 'and', '4', 'producer', 'david', 'zucker', 'sets', 'his', 'satirical', 'sights', 'on', 'the', 'superhero', 'genre', 'with', 'this', 'anarchic', 'comedy', 'lampooning', 'everything', 'from', 'spider', 'man', 'to', 'x', 'men', 'and', 'superman', 'returns', 'br', 'br', 'shortly', 'after', 'being', 'bitten', 'by', 'a', 'genetically', 'altered', 'dragonfly', 'high', 'school', 'outcast', 'rick', 'riker', 'drake', 'bell', 'begins', 'to', 'experience', 'a', 'startling', 'transformation', 'now', \"rick's\", 'skin', 'is', 'as', 'strong', 'as', 'steel', 'and', 'he', 'possesses', 'the', 'strength', 'of', 'ten', 'men', 'determined', 'to', 'use', 'his', 'newfound', 'powers', 'to', 'fight', 'crime', 'rick', 'creates', 'a', 'special', 'costume', 'and', 'assumes', 'the', 'identity', 'of', 'the', 'dragonfly', 'a', 'fearless', 'crime', 'fighter', 'dedicated', 'to', 'keeping', 'the', 'streets', 'safe', 'for', 'law', 'abiding', 'citizens', 'br', 'br', 'but', 'every', 'superhero', 'needs', 'a', 'nemesis', 'and', 'after', 'lou', 'landers', 'christopher', 'mcdonald', 'is', 'caught', 'in', 'the', 'middle', 'of', 'an', 'experiment', 'gone', 'horribly', 'awry', 'he', 'develops', 'the', 'power', 'to', 'leech', 'the', 'life', 'force', 'out', 'of', 'anyone', 'he', 'meets', 'and', 'becomes', 'the', 'villainous', 'hourglass', 'intent', 'on', 'achieving', 'immortality', 'the', 'hourglass', 'attempts', 'to', 'gather', 'as', 'much', 'life', 'force', 'as', 'possible', 'as', 'the', 'noble', 'dragonfly', 'sets', 'out', 'to', 'take', 'down', 'his', 'archenemy', 'and', 'realize', 'his', 'destiny', 'as', 'a', 'true', 'hero', 'craig', 'mazin', 'writes', 'and', 'directs', 'this', 'low', 'flying', 'spoof', 'br', 'br', 'featuring', 'tracy', 'morgan', 'pamela', 'anderson', 'leslie', 'nielsen', 'marion', 'ross', 'jeffrey', 'tambor', 'and', 'regina', 'hall', 'br', 'br', 'hell', 'superhero', 'movie', 'may', 'earn', 'some', 'merit', 'in', 'the', 'fact', 'that', \"it's\", 'a', 'hell', 'of', 'a', 'lot', 'better', 'than', 'meet', 'the', 'spartans', 'and', 'epic', 'movie', 'but', 'with', 'great', 'responsibility', 'comes', 'one', 'of', 'the', 'worst', 'outings', 'of', '2008', 'to', 'date', 'laughless', 'but', 'a', 'little', 'less', 'irritating', 'than', 'meet', 'the', 'spartans', 'and', 'in', 'the', 'same', 'sense', 'much', 'more', 'forgettable', 'than', 'meet', 'the', 'spartans', 'but', 'maybe', \"that's\", 'a', 'good', 'reason', 'there', 'are', 'still', 'some', 'of', 'us', 'trying', 'to', 'scrape', 'away', 'the', 'stain', 'that', 'was', 'meet', 'the', 'spartans', 'from', 'our', 'memory', 'br', 'br', 'my', 'final', 'verdict', 'avoid', 'unless', \"you're\", 'one', 'of', 'thoses', 'people', 'who', 'enjoy', 'such', 'car', 'crash', 'cinema', 'as', 'bad', 'as', 'date', 'movie', 'and', 'scary', 'movie', '2', 'but', 'not', 'quite', 'as', 'bad', 'as', 'meet', 'the', 'spartans', 'or', 'epic', 'movie', 'super', 'villain']\n",
      "Label 3: 0\n",
      "Sentence 4: ['poor', 'shirley', 'maclaine', 'tries', 'hard', 'to', 'lend', 'some', 'gravitas', 'to', 'this', 'mawkish', 'gag', 'inducing', 'feel', 'good', 'movie', 'but', \"she's\", 'trampled', 'by', 'the', 'run', 'away', 'sentimentality', 'of', 'a', 'film', \"that's\", 'not', 'the', 'least', 'bit', 'grounded', 'in', 'reality', 'br', 'br', 'this', 'was', 'directed', 'by', 'curtis', 'hanson', 'did', 'he', 'have', 'a', 'lobotomy', 'since', 'we', 'last', 'heard', 'from', 'him', 'hanson', 'can', 'do', 'effective', 'drama', 'sprinkled', 'with', 'comedy', 'as', 'evidenced', 'by', 'wonder', 'boys', 'so', 'i', \"don't\", 'know', 'what', 'happened', 'to', 'him', 'here', 'this', 'is', 'the', 'kind', 'of', 'movie', 'that', \"doesn't\", 'want', 'to', 'accept', 'that', 'life', 'is', 'messy', 'and', 'fussy', 'and', 'that', 'neat', 'tidy', 'endings', 'however', 'implausible', 'they', 'might', 'be', 'might', 'make', 'for', 'a', 'nice', 'closing', 'shot', 'but', 'come', 'across', 'as', 'utterly', 'phony', 'if', 'the', 'people', 'watching', 'the', 'film', 'have', 'been', 'through', 'anything', 'remotely', 'like', 'what', 'the', 'characters', 'in', 'the', 'film', 'go', 'through', 'br', 'br', 'my', 'wife', 'and', 'i', 'made', 'a', 'game', 'of', 'calling', 'out', 'the', 'plot', 'points', 'before', 'they', 'occurred', 'e', 'g', 'the', 'old', \"man's\", 'going', 'to', 'teach', 'her', 'to', 'read', 'and', 'then', 'drop', 'dead', 'bingo', 'this', 'is', 'one', 'of', 'those', 'movies', 'where', 'the', 'characters', 'give', 'little', 'speeches', 'summarizing', 'their', 'emotional', 'problems', 'making', 'you', 'wonder', 'why', 'they', 'still', 'have', 'emotional', 'problems', 'if', \"they're\", 'that', 'aware', 'of', \"what's\", 'causing', 'them', 'toni', 'collette', 'a', 'fine', 'actress', 'by', 'the', 'way', 'and', 'one', 'of', 'my', 'favorites', 'if', 'not', 'given', 'a', 'lot', 'to', 'work', 'with', 'here', 'gives', 'a', 'speech', 'early', 'on', 'about', 'why', 'she', 'buys', 'so', 'many', 'shoes', 'and', 'never', 'wears', 'them', 'spelling', 'out', 'in', 'flashing', 'neon', 'the', \"film's\", 'awkward', 'connecting', 'motif', 'at', 'that', 'moment', 'i', 'knew', 'what', 'i', 'was', 'in', 'for', 'and', 'the', 'film', 'was', 'a', 'downward', 'spiral', 'from', 'there', 'br', 'br', 'grade', 'c']\n",
      "Label 4: 0\n",
      "Sentence 5: ['as', 'a', 'former', 'erasmus', 'student', 'i', 'enjoyed', 'this', 'film', 'very', 'much', 'it', 'was', 'so', 'realistic', 'and', 'funny', 'it', 'really', 'picked', 'up', 'the', 'spirit', 'that', 'exists', 'among', 'erasmus', 'students', 'i', 'hope', 'many', 'other', 'students', 'will', 'follow', 'this', 'experience', 'too', 'however', 'i', 'wonder', 'if', 'this', 'movie', 'is', 'all', 'that', 'interesting', 'to', 'watch', 'for', 'people', 'with', 'no', 'international', 'experience', 'but', 'at', 'least', 'one', 'of', 'my', 'friends', 'who', 'has', 'never', 'gone', 'on', 'erasmus', 'also', 'enjoyed', 'it', 'very', 'much', 'i', 'give', 'it', '9', 'out', 'of', '10']\n",
      "Label 5: 1\n"
     ]
    }
   ],
   "source": [
    "print(\"Training datas:\")\n",
    "for i in range(5):\n",
    "    print(f\"Sentence {i+1}: {X_train[i]}\")\n",
    "    print(f\"Label {i+1}: {y_train[i]}\")\n",
    "\n",
    "print(\"\\nTest data:\")\n",
    "for i in range(5):\n",
    "    print(f\"Sentence {i+1}: {X_test[i]}\")\n",
    "    print(f\"Label {i+1}: {y_test[i]}\")"
   ]
  },
  {
   "cell_type": "code",
   "execution_count": null,
   "metadata": {},
   "outputs": [],
   "source": []
  },
  {
   "cell_type": "markdown",
   "metadata": {},
   "source": [
    "**LABELS**: the task is a binary classification problem:\n",
    "- label 0️⃣ corresponds to a <font color=red>negative</font> movie review\n",
    "- label 1️⃣ corresponds to a <font color=green>positive</font> movie review\n",
    "\n",
    "**INPUTS**: \n",
    "- 🧹 The data has been partially cleaned! So you don't have to worry about it in this exercise. \n",
    "- ❗️ But don't forget this step in real-life challenges. \n",
    "\n",
    "Remember that words are not computer-compatible materials? You have to tokenize them!\n",
    "\n",
    "❓ **Question** ❓ Run the following cell to tokenize your sentences"
   ]
  },
  {
   "cell_type": "code",
   "execution_count": 3,
   "metadata": {},
   "outputs": [],
   "source": [
    "from tensorflow.keras.preprocessing.text import Tokenizer\n",
    "\n",
    "# This initializes a Keras utilities that does all the tokenization for you\n",
    "tokenizer = Tokenizer()\n",
    "\n",
    "# The tokenization learns a dictionary that maps a token (integer) to each word\n",
    "# It can be done only on the train set - we are not supposed to know the test set!\n",
    "# This tokenization also lowercases your words, apply some filters, and so on - you can check the doc if you want\n",
    "tokenizer.fit_on_texts(X_train)\n",
    "    \n",
    "# We apply the tokenization to the train and test set\n",
    "X_train_token = tokenizer.texts_to_sequences(X_train)\n",
    "X_test_token = tokenizer.texts_to_sequences(X_test)"
   ]
  },
  {
   "cell_type": "markdown",
   "metadata": {},
   "source": [
    "❓ **Question** ❓ Print some of the tokenized sentences to be sure you got what you expected"
   ]
  },
  {
   "cell_type": "code",
   "execution_count": 4,
   "metadata": {
    "tags": [
     "challengify"
    ]
   },
   "outputs": [
    {
     "name": "stdout",
     "output_type": "stream",
     "text": [
      "Training datas Tokenized:\n",
      "Sentence 1: ['this', 'was', 'an', 'absolutely', 'terrible', 'movie', \"don't\", 'be', 'lured', 'in', 'by', 'christopher', 'walken', 'or', 'michael', 'ironside', 'both', 'are', 'great', 'actors', 'but', 'this', 'must', 'simply', 'be', 'their', 'worst', 'role', 'in', 'history', 'even', 'their', 'great', 'acting', 'could', 'not', 'redeem', 'this', \"movie's\", 'ridiculous', 'storyline', 'this', 'movie', 'is', 'an', 'early', 'nineties', 'us', 'propaganda', 'piece', 'the', 'most', 'pathetic', 'scenes', 'were', 'those', 'when', 'the', 'columbian', 'rebels', 'were', 'making', 'their', 'cases', 'for', 'revolutions', 'maria', 'conchita', 'alonso', 'appeared', 'phony', 'and', 'her', 'pseudo', 'love', 'affair', 'with', 'walken', 'was', 'nothing', 'but', 'a', 'pathetic', 'emotional', 'plug', 'in', 'a', 'movie', 'that', 'was', 'devoid', 'of', 'any', 'real', 'meaning', 'i', 'am', 'disappointed', 'that', 'there', 'are', 'movies', 'like', 'this', 'ruining', \"actor's\", 'like', 'christopher', \"walken's\", 'good', 'name', 'i', 'could', 'barely', 'sit', 'through', 'it']\n",
      "Tokenized 1: [11, 13, 33, 422, 402, 18, 91, 27, 6893, 8, 31, 1311, 4504, 39, 539, 8007, 194, 24, 75, 161, 17, 11, 228, 336, 27, 68, 252, 203, 8, 468, 58, 68, 75, 108, 98, 21, 4165, 11, 1418, 694, 695, 11, 18, 6, 33, 389, 6065, 204, 2345, 487, 1, 86, 928, 140, 69, 158, 51, 1, 16730, 8008, 69, 251, 68, 2895, 15, 16731, 1877, 12117, 12118, 1344, 4505, 3, 38, 3640, 120, 1386, 16, 4504, 13, 164, 17, 2, 928, 805, 8009, 8, 2, 18, 12, 13, 3231, 4, 99, 142, 1239, 9, 221, 696, 12, 48, 24, 97, 35, 11, 8010, 4506, 35, 1311, 16732, 49, 375, 9, 98, 1006, 753, 137, 10]\n",
      "Sentence 2: ['i', 'have', 'been', 'known', 'to', 'fall', 'asleep', 'during', 'films', 'but', 'this', 'is', 'usually', 'due', 'to', 'a', 'combination', 'of', 'things', 'including', 'really', 'tired', 'being', 'warm', 'and', 'comfortable', 'on', 'the', 'sette', 'and', 'having', 'just', 'eaten', 'a', 'lot', 'however', 'on', 'this', 'occasion', 'i', 'fell', 'asleep', 'because', 'the', 'film', 'was', 'rubbish', 'the', 'plot', 'development', 'was', 'constant', 'constantly', 'slow', 'and', 'boring', 'things', 'seemed', 'to', 'happen', 'but', 'with', 'no', 'explanation', 'of', 'what', 'was', 'causing', 'them', 'or', 'why', 'i', 'admit', 'i', 'may', 'have', 'missed', 'part', 'of', 'the', 'film', 'but', 'i', 'watched', 'the', 'majority', 'of', 'it', 'and', 'everything', 'just', 'seemed', 'to', 'happen', 'of', 'its', 'own', 'accord', 'without', 'any', 'real', 'concern', 'for', 'anything', 'else', 'i', 'cant', 'recommend', 'this', 'film', 'at', 'all']\n",
      "Tokenized 2: [9, 25, 76, 572, 5, 730, 1945, 296, 100, 17, 11, 6, 625, 662, 5, 2, 1835, 4, 190, 555, 61, 1170, 115, 2531, 3, 2896, 20, 1, 9585, 3, 264, 40, 5424, 2, 187, 200, 20, 11, 3435, 9, 1387, 1945, 80, 1, 19, 13, 1601, 1, 103, 1056, 13, 2090, 1646, 515, 3, 319, 190, 443, 5, 531, 17, 16, 53, 1878, 4, 46, 13, 4507, 94, 39, 135, 9, 929, 9, 195, 25, 1007, 170, 4, 1, 19, 17, 9, 262, 1, 2532, 4, 10, 3, 273, 40, 443, 5, 531, 4, 96, 181, 9586, 213, 99, 142, 4508, 15, 240, 298, 9, 2897, 401, 11, 19, 30, 29]\n",
      "Sentence 3: ['mann', 'photographs', 'the', 'alberta', 'rocky', 'mountains', 'in', 'a', 'superb', 'fashion', 'and', 'jimmy', 'stewart', 'and', 'walter', 'brennan', 'give', 'enjoyable', 'performances', 'as', 'they', 'always', 'seem', 'to', 'do', 'br', 'br', 'but', 'come', 'on', 'hollywood', 'a', 'mountie', 'telling', 'the', 'people', 'of', 'dawson', 'city', 'yukon', 'to', 'elect', 'themselves', 'a', 'marshal', 'yes', 'a', 'marshal', 'and', 'to', 'enforce', 'the', 'law', 'themselves', 'then', 'gunfighters', 'battling', 'it', 'out', 'on', 'the', 'streets', 'for', 'control', 'of', 'the', 'town', 'br', 'br', 'nothing', 'even', 'remotely', 'resembling', 'that', 'happened', 'on', 'the', 'canadian', 'side', 'of', 'the', 'border', 'during', 'the', 'klondike', 'gold', 'rush', 'mr', 'mann', 'and', 'company', 'appear', 'to', 'have', 'mistaken', 'dawson', 'city', 'for', 'deadwood', 'the', 'canadian', 'north', 'for', 'the', 'american', 'wild', 'west', 'br', 'br', 'canadian', 'viewers', 'be', 'prepared', 'for', 'a', 'reefer', 'madness', 'type', 'of', 'enjoyable', 'howl', 'with', 'this', 'ludicrous', 'plot', 'or', 'to', 'shake', 'your', 'head', 'in', 'disgust']\n",
      "Tokenized 3: [2445, 6894, 1, 12119, 3232, 2898, 8, 2, 1008, 1602, 3, 1879, 904, 3, 1697, 8011, 184, 790, 370, 14, 32, 205, 328, 5, 74, 7, 7, 17, 222, 20, 342, 2, 16733, 1057, 1, 92, 4, 3233, 444, 12120, 5, 12121, 494, 2, 5425, 416, 2, 5425, 3, 5, 16734, 1, 1137, 494, 87, 12122, 6066, 10, 42, 20, 1, 2770, 15, 987, 4, 1, 449, 7, 7, 164, 58, 3056, 5426, 12, 590, 20, 1, 1880, 429, 4, 1, 4925, 296, 1, 16735, 2016, 3234, 390, 2445, 3, 1089, 861, 5, 25, 2648, 3233, 444, 15, 9587, 1, 1880, 2649, 15, 1, 297, 1283, 1312, 7, 7, 1880, 815, 27, 3235, 15, 2, 9588, 3057, 527, 4, 790, 9589, 16, 11, 2446, 103, 39, 5, 3236, 132, 382, 8, 4509]\n",
      "Sentence 4: ['this', 'is', 'the', 'kind', 'of', 'film', 'for', 'a', 'snowy', 'sunday', 'afternoon', 'when', 'the', 'rest', 'of', 'the', 'world', 'can', 'go', 'ahead', 'with', 'its', 'own', 'business', 'as', 'you', 'descend', 'into', 'a', 'big', 'arm', 'chair', 'and', 'mellow', 'for', 'a', 'couple', 'of', 'hours', 'wonderful', 'performances', 'from', 'cher', 'and', 'nicolas', 'cage', 'as', 'always', 'gently', 'row', 'the', 'plot', 'along', 'there', 'are', 'no', 'rapids', 'to', 'cross', 'no', 'dangerous', 'waters', 'just', 'a', 'warm', 'and', 'witty', 'paddle', 'through', 'new', 'york', 'life', 'at', 'its', 'best', 'a', 'family', 'film', 'in', 'every', 'sense', 'and', 'one', 'that', 'deserves', 'the', 'praise', 'it', 'received']\n",
      "Tokenized 4: [11, 6, 1, 231, 4, 19, 15, 2, 6895, 2650, 2771, 51, 1, 365, 4, 1, 189, 67, 134, 1345, 16, 96, 181, 988, 14, 22, 12123, 81, 2, 208, 3237, 2772, 3, 12124, 15, 2, 346, 4, 640, 384, 370, 37, 8012, 3, 4926, 1836, 14, 205, 8013, 3436, 1, 103, 362, 48, 24, 53, 12125, 5, 1603, 53, 1946, 4166, 40, 2, 2531, 3, 2249, 16736, 137, 157, 634, 109, 30, 96, 106, 2, 216, 19, 8, 159, 281, 3, 26, 12, 989, 1, 2773, 10, 2651]\n",
      "Sentence 5: ['as', 'others', 'have', 'mentioned', 'all', 'the', 'women', 'that', 'go', 'nude', 'in', 'this', 'film', 'are', 'mostly', 'absolutely', 'gorgeous', 'the', 'plot', 'very', 'ably', 'shows', 'the', 'hypocrisy', 'of', 'the', 'female', 'libido', 'when', 'men', 'are', 'around', 'they', 'want', 'to', 'be', 'pursued', 'but', 'when', 'no', 'men', 'are', 'around', 'they', 'become', 'the', 'pursuers', 'of', 'a', '14', 'year', 'old', 'boy', 'and', 'the', 'boy', 'becomes', 'a', 'man', 'really', 'fast', 'we', 'should', 'all', 'be', 'so', 'lucky', 'at', 'this', 'age', 'he', 'then', 'gets', 'up', 'the', 'courage', 'to', 'pursue', 'his', 'true', 'love']\n",
      "Tokenized 5: [14, 423, 25, 1073, 29, 1, 464, 12, 134, 3641, 8, 11, 19, 24, 626, 422, 1555, 1, 103, 52, 6896, 295, 1, 8014, 4, 1, 601, 16737, 51, 372, 24, 185, 32, 173, 5, 27, 9590, 17, 51, 53, 372, 24, 185, 32, 417, 1, 16738, 4, 2, 2346, 310, 153, 373, 3, 1, 373, 506, 2, 122, 61, 705, 77, 136, 29, 27, 34, 1556, 30, 11, 523, 28, 87, 201, 54, 1, 3642, 5, 4927, 23, 277, 120]\n",
      "\n",
      "Test data Tokenized:\n",
      "Sentence 1: ['there', 'are', 'films', 'that', 'make', 'careers', 'for', 'george', 'romero', 'it', 'was', 'night', 'of', 'the', 'living', 'dead', 'for', 'kevin', 'smith', 'clerks', 'for', 'robert', 'rodriguez', 'el', 'mariachi', 'add', 'to', 'that', 'list', 'onur', \"tukel's\", 'absolutely', 'amazing', 'ding', 'a', 'ling', 'less', 'flawless', 'film', 'making', 'and', 'as', 'assured', 'and', 'as', 'professional', 'as', 'any', 'of', 'the', 'aforementioned', 'movies', 'i', \"haven't\", 'laughed', 'this', 'hard', 'since', 'i', 'saw', 'the', 'full', 'monty', 'and', 'even', 'then', 'i', \"don't\", 'think', 'i', 'laughed', 'quite', 'this', 'hard', 'so', 'to', 'speak', \"tukel's\", 'talent', 'is', 'considerable', 'ding', 'a', 'ling', 'less', 'is', 'so', 'chock', 'full', 'of', 'double', 'entendres', 'that', 'one', 'would', 'have', 'to', 'sit', 'down', 'with', 'a', 'copy', 'of', 'this', 'script', 'and', 'do', 'a', 'line', 'by', 'line', 'examination', 'of', 'it', 'to', 'fully', 'appreciate', 'the', 'uh', 'breadth', 'and', 'width', 'of', 'it', 'every', 'shot', 'is', 'beautifully', 'composed', 'a', 'clear', 'sign', 'of', 'a', 'sure', 'handed', 'director', 'and', 'the', 'performances', 'all', 'around', 'are', 'solid', \"there's\", 'none', 'of', 'the', 'over', 'the', 'top', 'scenery', 'chewing', 'one', \"might've\", 'expected', 'from', 'a', 'film', 'like', 'this', 'ding', 'a', 'ling', 'less', 'is', 'a', 'film', 'whose', 'time', 'has', 'come']\n",
      "Tokenized 1: [48, 24, 100, 12, 95, 3403, 15, 842, 4138, 10, 13, 276, 4, 1, 761, 351, 15, 3789, 1307, 17749, 15, 562, 11419, 6248, 683, 5, 12, 1183, 422, 588, 17461, 2, 324, 3653, 19, 251, 3, 14, 9247, 3, 14, 2105, 14, 99, 4, 1, 2823, 97, 9, 728, 1228, 11, 241, 230, 9, 210, 1, 385, 6182, 3, 58, 87, 9, 91, 101, 9, 1228, 174, 11, 241, 34, 5, 1032, 698, 6, 4228, 17461, 2, 324, 6, 34, 8215, 385, 4, 1813, 12, 26, 60, 25, 5, 753, 178, 16, 2, 960, 4, 11, 227, 3, 74, 2, 350, 31, 350, 5948, 4, 10, 5, 1275, 1458, 1, 28332, 3, 27148, 4, 10, 159, 345, 6, 1440, 4274, 2, 871, 1419, 4, 2, 244, 2388, 160, 3, 1, 370, 29, 185, 24, 1294, 224, 666, 4, 1, 117, 1, 338, 1157, 11610, 26, 14635, 782, 37, 2, 19, 35, 11, 17461, 2, 324, 6, 2, 19, 594, 57, 45, 222]\n",
      "Sentence 2: ['a', 'blackly', 'comic', 'tale', 'of', 'a', 'down', 'trodden', 'priest', 'nazarin', 'showcases', 'the', 'economy', 'that', 'luis', 'bunuel', 'was', 'able', 'to', 'achieve', 'in', 'being', 'able', 'to', 'tell', 'a', 'deeply', 'humanist', 'fable', 'with', 'a', 'minimum', 'of', 'fuss', 'as', 'an', 'output', 'from', 'his', 'mexican', 'era', 'of', 'film', 'making', 'it', 'was', 'an', 'invaluable', 'talent', 'to', 'possess', 'with', 'little', 'money', 'and', 'extremely', 'tight', 'schedules', 'nazarin', 'however', 'surpasses', 'many', 'of', \"bunuel's\", 'previous', 'mexican', 'films', 'in', 'terms', 'of', 'the', 'acting', 'francisco', 'rabal', 'is', 'excellent', 'narrative', 'and', 'theme', 'br', 'br', 'the', 'theme', 'interestingly', 'is', 'something', 'that', 'was', 'explored', 'again', 'in', 'viridiana', 'made', 'three', 'years', 'later', 'in', 'spain', 'it', 'concerns', 'the', \"individual's\", 'struggle', 'for', 'humanity', 'and', 'altruism', 'amongst', 'a', 'society', 'that', 'rejects', 'any', 'notion', 'of', 'virtue', 'father', 'nazarin', 'however', 'is', 'portrayed', 'more', 'sympathetically', 'than', 'sister', 'viridiana', 'whereas', 'the', 'latter', 'seems', 'to', 'choose', 'charity', 'because', 'she', 'wishes', 'to', 'atone', 'for', 'her', 'perceived', 'sins', \"nazarin's\", 'whole', 'existence', 'and', 'reason', 'for', 'being', 'seems', 'to', 'be', 'to', 'help', 'others', 'whether', 'they', 'or', 'we', 'like', 'it', 'or', 'not', 'the', \"film's\", 'last', 'scenes', 'in', 'which', 'he', 'casts', 'doubt', 'on', 'his', 'behaviour', 'and', 'in', 'a', 'split', 'second', 'has', 'to', 'choose', 'between', 'the', 'life', 'he', 'has', 'been', 'leading', 'or', 'the', 'conventional', 'life', 'that', 'is', 'expected', 'of', 'a', 'priest', 'are', 'so', 'emotional', 'because', 'they', 'concern', 'his', 'moral', 'integrity', 'and', 'we', 'are', 'never', 'quite', 'sure', 'whether', 'it', 'remains', 'intact', 'or', 'not', 'br', 'br', 'this', 'is', 'a', 'remarkable', 'film', 'and', 'i', 'would', 'urge', 'anyone', 'interested', 'in', 'classic', 'cinema', 'to', 'seek', 'it', 'out', 'it', 'is', 'one', 'of', \"bunuel's\", 'most', 'moving', 'films', 'and', 'encapsulates', 'many', 'of', 'his', 'obsessions', 'frustrated', 'desire', 'mad', 'love', 'religious', 'hypocrisy', 'etc', 'in', 'my', 'view', \"'nazarin'\", 'is', 'second', 'only', 'to', \"'the\", 'exterminating', \"angel'\", 'in', 'terms', 'of', 'his', 'mexican', 'movies', 'and', 'is', 'certainly', 'near', 'the', 'top', 'of', 'the', 'list', 'of', \"bunuel's\", 'total', 'filmic', 'output']\n",
      "Tokenized 2: [2, 655, 725, 4, 2, 178, 2762, 9510, 1, 14408, 12, 8826, 18783, 13, 501, 5, 3802, 8, 115, 501, 5, 395, 2, 1874, 16549, 16, 2, 5483, 4, 5675, 14, 33, 7223, 37, 23, 4634, 1363, 4, 19, 251, 10, 13, 33, 12447, 698, 5, 5926, 16, 118, 272, 3, 660, 3254, 12732, 200, 8210, 107, 4, 16798, 900, 4634, 100, 8, 1544, 4, 1, 108, 5280, 6, 335, 1402, 3, 778, 7, 7, 1, 778, 4775, 6, 141, 12, 13, 4078, 154, 8, 90, 246, 162, 289, 8, 4810, 10, 2425, 1, 1972, 15, 2290, 3, 4210, 2, 942, 12, 6190, 99, 4043, 4, 6649, 347, 200, 6, 848, 50, 15151, 71, 895, 3466, 1, 1644, 198, 5, 1856, 13273, 80, 55, 3791, 5, 15, 38, 7055, 21265, 218, 1846, 3, 282, 15, 115, 198, 5, 27, 5, 322, 423, 722, 32, 39, 77, 35, 10, 39, 21, 1, 587, 242, 140, 8, 59, 28, 4553, 789, 20, 23, 3883, 3, 8, 2, 2542, 293, 45, 5, 1856, 207, 1, 109, 28, 45, 76, 839, 39, 1, 4222, 109, 12, 6, 782, 4, 2, 2762, 24, 34, 805, 80, 32, 4508, 23, 1755, 4937, 3, 77, 24, 112, 174, 244, 722, 10, 1742, 13298, 39, 21, 7, 7, 11, 6, 2, 1400, 19, 3, 9, 60, 3264, 254, 872, 8, 359, 477, 5, 4246, 10, 42, 10, 6, 26, 4, 16798, 86, 737, 100, 3, 29653, 107, 4, 23, 21167, 4223, 1673, 1188, 120, 2220, 8014, 478, 8, 56, 593, 6, 293, 62, 5, 1154, 8, 1544, 4, 23, 4634, 97, 3, 6, 428, 685, 1, 338, 4, 1, 1183, 4, 16798, 1029, 7244, 7223]\n",
      "Sentence 3: ['scary', 'movie', '1', '4', 'epic', 'movie', 'date', 'movie', 'meet', 'the', 'spartans', 'not', 'another', 'teen', 'movie', 'and', 'another', 'gay', 'movie', 'making', 'superhero', 'movie', 'the', 'eleventh', 'in', 'a', 'series', 'that', 'single', 'handily', 'ruined', 'the', 'parody', 'genre', 'now', \"i'll\", 'admit', 'it', 'i', 'have', 'a', 'soft', 'spot', 'for', 'classics', 'such', 'as', 'airplane', 'and', 'the', 'naked', 'gun', 'but', 'you', 'know', \"you've\", 'milked', 'a', 'franchise', 'so', 'bad', 'when', 'you', 'can', 'see', 'the', 'gags', 'a', 'mile', 'off', 'in', 'fact', 'the', 'only', 'thing', 'that', 'might', 'really', 'temp', 'you', 'into', 'going', 'to', 'see', 'this', 'disaster', 'is', 'the', 'incredibly', 'funny', 'but', 'massive', 'sell', 'out', 'leslie', 'neilson', 'br', 'br', 'you', 'can', 'tell', 'he', 'needs', 'the', 'money', 'wither', 'that', 'or', 'he', 'intends', 'to', 'go', 'down', 'with', 'the', 'ship', 'like', 'a', 'good', 'capitan', 'would', 'in', 'no', 'way', 'is', 'he', 'bringing', 'down', 'this', 'genre', 'but', 'hell', \"he's\", 'not', 'helping', 'it', 'but', 'if', 'i', 'feel', 'sorry', 'for', 'anybody', 'in', 'this', 'film', 'its', 'decent', 'actor', 'drake', 'bell', 'who', 'is', 'put', 'through', 'an', 'immense', 'amount', 'of', 'embarrassment', 'the', 'people', 'who', 'are', 'put', 'through', 'the', 'largest', 'amount', 'of', 'torture', 'by', 'far', 'however', 'is', 'the', 'audience', 'forced', 'to', 'sit', 'through', '90', 'minutes', 'of', 'laughless', 'bile', 'no', 'funnier', 'than', 'herpes', 'br', 'br', 'after', 'spoofing', 'disaster', 'films', 'in', 'airplane', 'police', 'shows', 'in', 'the', 'naked', 'gun', 'and', 'hollywood', 'horrors', 'in', 'scary', 'movie', '3', 'and', '4', 'producer', 'david', 'zucker', 'sets', 'his', 'satirical', 'sights', 'on', 'the', 'superhero', 'genre', 'with', 'this', 'anarchic', 'comedy', 'lampooning', 'everything', 'from', 'spider', 'man', 'to', 'x', 'men', 'and', 'superman', 'returns', 'br', 'br', 'shortly', 'after', 'being', 'bitten', 'by', 'a', 'genetically', 'altered', 'dragonfly', 'high', 'school', 'outcast', 'rick', 'riker', 'drake', 'bell', 'begins', 'to', 'experience', 'a', 'startling', 'transformation', 'now', \"rick's\", 'skin', 'is', 'as', 'strong', 'as', 'steel', 'and', 'he', 'possesses', 'the', 'strength', 'of', 'ten', 'men', 'determined', 'to', 'use', 'his', 'newfound', 'powers', 'to', 'fight', 'crime', 'rick', 'creates', 'a', 'special', 'costume', 'and', 'assumes', 'the', 'identity', 'of', 'the', 'dragonfly', 'a', 'fearless', 'crime', 'fighter', 'dedicated', 'to', 'keeping', 'the', 'streets', 'safe', 'for', 'law', 'abiding', 'citizens', 'br', 'br', 'but', 'every', 'superhero', 'needs', 'a', 'nemesis', 'and', 'after', 'lou', 'landers', 'christopher', 'mcdonald', 'is', 'caught', 'in', 'the', 'middle', 'of', 'an', 'experiment', 'gone', 'horribly', 'awry', 'he', 'develops', 'the', 'power', 'to', 'leech', 'the', 'life', 'force', 'out', 'of', 'anyone', 'he', 'meets', 'and', 'becomes', 'the', 'villainous', 'hourglass', 'intent', 'on', 'achieving', 'immortality', 'the', 'hourglass', 'attempts', 'to', 'gather', 'as', 'much', 'life', 'force', 'as', 'possible', 'as', 'the', 'noble', 'dragonfly', 'sets', 'out', 'to', 'take', 'down', 'his', 'archenemy', 'and', 'realize', 'his', 'destiny', 'as', 'a', 'true', 'hero', 'craig', 'mazin', 'writes', 'and', 'directs', 'this', 'low', 'flying', 'spoof', 'br', 'br', 'featuring', 'tracy', 'morgan', 'pamela', 'anderson', 'leslie', 'nielsen', 'marion', 'ross', 'jeffrey', 'tambor', 'and', 'regina', 'hall', 'br', 'br', 'hell', 'superhero', 'movie', 'may', 'earn', 'some', 'merit', 'in', 'the', 'fact', 'that', \"it's\", 'a', 'hell', 'of', 'a', 'lot', 'better', 'than', 'meet', 'the', 'spartans', 'and', 'epic', 'movie', 'but', 'with', 'great', 'responsibility', 'comes', 'one', 'of', 'the', 'worst', 'outings', 'of', '2008', 'to', 'date', 'laughless', 'but', 'a', 'little', 'less', 'irritating', 'than', 'meet', 'the', 'spartans', 'and', 'in', 'the', 'same', 'sense', 'much', 'more', 'forgettable', 'than', 'meet', 'the', 'spartans', 'but', 'maybe', \"that's\", 'a', 'good', 'reason', 'there', 'are', 'still', 'some', 'of', 'us', 'trying', 'to', 'scrape', 'away', 'the', 'stain', 'that', 'was', 'meet', 'the', 'spartans', 'from', 'our', 'memory', 'br', 'br', 'my', 'final', 'verdict', 'avoid', 'unless', \"you're\", 'one', 'of', 'thoses', 'people', 'who', 'enjoy', 'such', 'car', 'crash', 'cinema', 'as', 'bad', 'as', 'date', 'movie', 'and', 'scary', 'movie', '2', 'but', 'not', 'quite', 'as', 'bad', 'as', 'meet', 'the', 'spartans', 'or', 'epic', 'movie', 'super', 'villain']\n",
      "Tokenized 3: [603, 18, 290, 530, 1892, 18, 1446, 18, 820, 1, 18366, 21, 166, 1711, 18, 3, 166, 914, 18, 251, 3251, 18, 1, 8, 2, 193, 12, 614, 2102, 1, 2377, 542, 144, 573, 929, 10, 9, 25, 2, 1898, 1699, 15, 3104, 138, 14, 5208, 3, 1, 1299, 1375, 17, 22, 127, 873, 15152, 2, 4687, 34, 79, 51, 22, 67, 66, 1, 2038, 2, 4325, 125, 8, 186, 1, 62, 145, 12, 219, 61, 12142, 22, 81, 163, 5, 66, 11, 1753, 6, 1, 1068, 156, 17, 2758, 2024, 42, 2644, 7, 7, 22, 67, 395, 28, 863, 1, 272, 12, 39, 28, 13886, 5, 134, 178, 16, 1, 1875, 35, 2, 49, 60, 8, 53, 93, 6, 28, 2171, 178, 11, 542, 17, 618, 249, 21, 4124, 10, 17, 41, 9, 271, 755, 15, 1557, 8, 11, 19, 96, 522, 243, 2722, 4162, 36, 6, 280, 137, 33, 12129, 1180, 4, 3647, 1, 92, 36, 24, 280, 137, 1, 11428, 1180, 4, 1480, 31, 217, 200, 6, 1, 286, 888, 5, 753, 137, 1653, 220, 4, 13856, 53, 2469, 71, 7, 7, 104, 29455, 1753, 100, 8, 5208, 549, 295, 8, 1, 1299, 1375, 3, 342, 4369, 8, 603, 18, 323, 3, 530, 1487, 568, 692, 23, 5844, 5598, 20, 1, 3251, 542, 16, 11, 22444, 248, 27403, 273, 37, 4618, 122, 5, 1988, 372, 3, 1153, 2068, 7, 7, 3865, 104, 115, 7823, 31, 2, 11332, 4445, 9601, 284, 399, 10440, 4267, 2722, 4162, 811, 5, 556, 2, 9386, 5126, 144, 2286, 6, 14, 558, 14, 5448, 3, 28, 9540, 1, 2248, 4, 676, 372, 2440, 5, 418, 23, 14829, 1675, 5, 652, 940, 4267, 1740, 2, 315, 2160, 3, 10256, 1, 1560, 4, 1, 9601, 2, 15637, 940, 5328, 4822, 5, 1609, 1, 2770, 1748, 15, 1137, 8890, 4673, 7, 7, 17, 159, 3251, 863, 2, 4665, 3, 104, 1821, 17843, 1311, 6, 1005, 8, 1, 616, 4, 33, 2091, 831, 1757, 5023, 28, 3366, 1, 560, 5, 1, 109, 1408, 42, 4, 254, 28, 894, 3, 506, 1, 6673, 3604, 20, 16419, 1, 998, 5, 8772, 14, 72, 109, 1408, 14, 566, 14, 1, 2721, 9601, 692, 42, 5, 202, 178, 23, 3, 1084, 23, 7436, 14, 2, 277, 691, 4359, 2982, 3, 4762, 11, 393, 1531, 2339, 7, 7, 1534, 2921, 1576, 4841, 2342, 2644, 11779, 6157, 5232, 5678, 3, 2839, 7, 7, 618, 3251, 18, 195, 4843, 47, 4740, 8, 1, 186, 12, 44, 2, 618, 4, 2, 187, 124, 71, 820, 1, 18366, 3, 1892, 18, 17, 16, 75, 6271, 270, 26, 4, 1, 252, 15448, 4, 6106, 5, 1446, 17, 2, 118, 324, 2229, 71, 820, 1, 18366, 3, 8, 1, 168, 281, 72, 50, 1692, 71, 820, 1, 18366, 17, 259, 188, 2, 49, 282, 48, 24, 128, 47, 4, 204, 258, 5, 232, 1, 12, 13, 820, 1, 18366, 37, 306, 1768, 7, 7, 56, 541, 5033, 827, 939, 331, 26, 4, 21054, 92, 36, 358, 138, 637, 2665, 477, 14, 79, 14, 1446, 18, 3, 603, 18, 225, 17, 21, 174, 14, 79, 14, 820, 1, 18366, 39, 1892, 18, 1107, 1120]\n",
      "Sentence 4: ['poor', 'shirley', 'maclaine', 'tries', 'hard', 'to', 'lend', 'some', 'gravitas', 'to', 'this', 'mawkish', 'gag', 'inducing', 'feel', 'good', 'movie', 'but', \"she's\", 'trampled', 'by', 'the', 'run', 'away', 'sentimentality', 'of', 'a', 'film', \"that's\", 'not', 'the', 'least', 'bit', 'grounded', 'in', 'reality', 'br', 'br', 'this', 'was', 'directed', 'by', 'curtis', 'hanson', 'did', 'he', 'have', 'a', 'lobotomy', 'since', 'we', 'last', 'heard', 'from', 'him', 'hanson', 'can', 'do', 'effective', 'drama', 'sprinkled', 'with', 'comedy', 'as', 'evidenced', 'by', 'wonder', 'boys', 'so', 'i', \"don't\", 'know', 'what', 'happened', 'to', 'him', 'here', 'this', 'is', 'the', 'kind', 'of', 'movie', 'that', \"doesn't\", 'want', 'to', 'accept', 'that', 'life', 'is', 'messy', 'and', 'fussy', 'and', 'that', 'neat', 'tidy', 'endings', 'however', 'implausible', 'they', 'might', 'be', 'might', 'make', 'for', 'a', 'nice', 'closing', 'shot', 'but', 'come', 'across', 'as', 'utterly', 'phony', 'if', 'the', 'people', 'watching', 'the', 'film', 'have', 'been', 'through', 'anything', 'remotely', 'like', 'what', 'the', 'characters', 'in', 'the', 'film', 'go', 'through', 'br', 'br', 'my', 'wife', 'and', 'i', 'made', 'a', 'game', 'of', 'calling', 'out', 'the', 'plot', 'points', 'before', 'they', 'occurred', 'e', 'g', 'the', 'old', \"man's\", 'going', 'to', 'teach', 'her', 'to', 'read', 'and', 'then', 'drop', 'dead', 'bingo', 'this', 'is', 'one', 'of', 'those', 'movies', 'where', 'the', 'characters', 'give', 'little', 'speeches', 'summarizing', 'their', 'emotional', 'problems', 'making', 'you', 'wonder', 'why', 'they', 'still', 'have', 'emotional', 'problems', 'if', \"they're\", 'that', 'aware', 'of', \"what's\", 'causing', 'them', 'toni', 'collette', 'a', 'fine', 'actress', 'by', 'the', 'way', 'and', 'one', 'of', 'my', 'favorites', 'if', 'not', 'given', 'a', 'lot', 'to', 'work', 'with', 'here', 'gives', 'a', 'speech', 'early', 'on', 'about', 'why', 'she', 'buys', 'so', 'many', 'shoes', 'and', 'never', 'wears', 'them', 'spelling', 'out', 'in', 'flashing', 'neon', 'the', \"film's\", 'awkward', 'connecting', 'motif', 'at', 'that', 'moment', 'i', 'knew', 'what', 'i', 'was', 'in', 'for', 'and', 'the', 'film', 'was', 'a', 'downward', 'spiral', 'from', 'there', 'br', 'br', 'grade', 'c']\n",
      "Tokenized 4: [344, 5827, 18791, 447, 241, 5, 5488, 47, 14458, 5, 11, 15561, 3068, 5781, 271, 49, 18, 17, 480, 31, 1, 408, 232, 8209, 4, 2, 19, 188, 21, 1, 223, 179, 8, 739, 7, 7, 11, 13, 545, 31, 3380, 7652, 116, 28, 25, 2, 7786, 230, 77, 242, 712, 37, 89, 7652, 67, 74, 1304, 396, 15092, 16, 248, 14, 22512, 31, 574, 1205, 34, 9, 91, 127, 46, 590, 5, 89, 139, 11, 6, 1, 231, 4, 18, 12, 147, 173, 5, 1911, 12, 109, 6, 7589, 3, 10444, 3, 12, 2732, 10413, 4370, 200, 6440, 32, 219, 27, 219, 95, 15, 2, 353, 2578, 345, 17, 222, 619, 14, 1072, 4505, 41, 1, 92, 155, 1, 19, 25, 76, 137, 240, 3056, 35, 46, 1, 111, 8, 1, 19, 134, 137, 7, 7, 56, 305, 3, 9, 90, 2, 689, 4, 2938, 42, 1, 103, 828, 149, 32, 3560, 1019, 1610, 1, 153, 1770, 163, 5, 2737, 38, 5, 311, 3, 87, 2739, 351, 11, 6, 26, 4, 158, 97, 114, 1, 111, 184, 118, 5930, 19330, 68, 805, 856, 251, 22, 574, 135, 32, 128, 25, 805, 856, 41, 430, 12, 2057, 4, 845, 4507, 94, 6566, 4825, 2, 460, 462, 31, 1, 93, 3, 26, 4, 56, 2683, 41, 21, 321, 2, 187, 5, 169, 16, 139, 381, 2, 2844, 389, 20, 43, 135, 55, 7269, 34, 107, 7868, 3, 112, 2615, 94, 5431, 42, 8, 5405, 6331, 1, 587, 2028, 30, 12, 503, 9, 810, 46, 9, 13, 8, 15, 3, 1, 19, 13, 2, 7234, 4844, 37, 48, 7, 7, 1425, 1042]\n",
      "Sentence 5: ['as', 'a', 'former', 'erasmus', 'student', 'i', 'enjoyed', 'this', 'film', 'very', 'much', 'it', 'was', 'so', 'realistic', 'and', 'funny', 'it', 'really', 'picked', 'up', 'the', 'spirit', 'that', 'exists', 'among', 'erasmus', 'students', 'i', 'hope', 'many', 'other', 'students', 'will', 'follow', 'this', 'experience', 'too', 'however', 'i', 'wonder', 'if', 'this', 'movie', 'is', 'all', 'that', 'interesting', 'to', 'watch', 'for', 'people', 'with', 'no', 'international', 'experience', 'but', 'at', 'least', 'one', 'of', 'my', 'friends', 'who', 'has', 'never', 'gone', 'on', 'erasmus', 'also', 'enjoyed', 'it', 'very', 'much', 'i', 'give', 'it', '9', 'out', 'of', '10']\n",
      "Tokenized 5: [14, 2, 1136, 18379, 1508, 9, 579, 11, 19, 52, 72, 10, 13, 34, 750, 3, 156, 10, 61, 1577, 54, 1, 1113, 12, 3262, 857, 18379, 1301, 9, 397, 107, 82, 1301, 83, 881, 11, 556, 88, 200, 9, 574, 41, 11, 18, 6, 29, 12, 233, 5, 102, 15, 92, 16, 53, 2319, 556, 17, 30, 223, 26, 4, 56, 394, 36, 45, 112, 831, 20, 18379, 85, 579, 10, 52, 72, 9, 184, 10, 710, 42, 4, 171]\n"
     ]
    }
   ],
   "source": [
    "print(\"Training datas Tokenized:\")\n",
    "for i in range(5):\n",
    "    print(f\"Sentence {i+1}: {X_train[i]}\")\n",
    "    print(f\"Tokenized {i+1}: {X_train_token[i]}\")\n",
    "\n",
    "print(\"\\nTest data Tokenized:\")\n",
    "for i in range(5):\n",
    "    print(f\"Sentence {i+1}: {X_test[i]}\")\n",
    "    print(f\"Tokenized {i+1}: {X_test_token[i]}\")"
   ]
  },
  {
   "cell_type": "markdown",
   "metadata": {},
   "source": [
    "The dictionary that maps each word to a token can be accessed with `tokenizer.word_index`\n",
    "    \n",
    "❓ **Question** ❓ Add a `vocab_size` variable that stores the number of different words (=tokens) in the train set. This is called the _size of the vocabulary_."
   ]
  },
  {
   "cell_type": "code",
   "execution_count": 5,
   "metadata": {
    "tags": [
     "challengify"
    ]
   },
   "outputs": [
    {
     "data": {
      "text/plain": [
       "30419"
      ]
     },
     "execution_count": 5,
     "metadata": {},
     "output_type": "execute_result"
    }
   ],
   "source": [
    "vocab_size = len(tokenizer.word_index)\n",
    "vocab_size"
   ]
  },
  {
   "cell_type": "markdown",
   "metadata": {},
   "source": [
    "Your `X_train_token` and `X_test_token` contain sequences of different lengths.\n",
    "\n",
    "<img src=\"padding.png\" alt='Word2Vec' width=\"700px\" />\n",
    "\n",
    "However, a neural network has to have a tensor as input. For this reason, you have to pad your data.\n",
    "\n",
    "❓ **Question** ❓  Pad your data with the `pad_sequences` function (documentation [here](https://www.tensorflow.org/api_docs/python/tf/keras/preprocessing/sequence/pad_sequences)). Do not forget about the `dtype` and `padding` keywords (but do not use `maxlen` here)."
   ]
  },
  {
   "cell_type": "code",
   "execution_count": 6,
   "metadata": {
    "tags": [
     "challengify"
    ]
   },
   "outputs": [],
   "source": [
    "from tensorflow.keras.preprocessing.sequence import pad_sequences"
   ]
  },
  {
   "cell_type": "code",
   "execution_count": 7,
   "metadata": {},
   "outputs": [],
   "source": [
    "X_train_padded = pad_sequences(X_train_token, padding='pre', dtype='float32')\n",
    "X_test_padded = pad_sequences(X_test_token, padding='pre', dtype='float32')"
   ]
  },
  {
   "cell_type": "code",
   "execution_count": 8,
   "metadata": {},
   "outputs": [
    {
     "name": "stdout",
     "output_type": "stream",
     "text": [
      "Padded Training Data\n",
      "Tokenized Sentence 1: [11, 13, 33, 422, 402, 18, 91, 27, 6893, 8, 31, 1311, 4504, 39, 539, 8007, 194, 24, 75, 161, 17, 11, 228, 336, 27, 68, 252, 203, 8, 468, 58, 68, 75, 108, 98, 21, 4165, 11, 1418, 694, 695, 11, 18, 6, 33, 389, 6065, 204, 2345, 487, 1, 86, 928, 140, 69, 158, 51, 1, 16730, 8008, 69, 251, 68, 2895, 15, 16731, 1877, 12117, 12118, 1344, 4505, 3, 38, 3640, 120, 1386, 16, 4504, 13, 164, 17, 2, 928, 805, 8009, 8, 2, 18, 12, 13, 3231, 4, 99, 142, 1239, 9, 221, 696, 12, 48, 24, 97, 35, 11, 8010, 4506, 35, 1311, 16732, 49, 375, 9, 98, 1006, 753, 137, 10]\n",
      "Padded Sentence 1: [  0.   0.   0. ... 753. 137.  10.]\n",
      "Tokenized Sentence 2: [9, 25, 76, 572, 5, 730, 1945, 296, 100, 17, 11, 6, 625, 662, 5, 2, 1835, 4, 190, 555, 61, 1170, 115, 2531, 3, 2896, 20, 1, 9585, 3, 264, 40, 5424, 2, 187, 200, 20, 11, 3435, 9, 1387, 1945, 80, 1, 19, 13, 1601, 1, 103, 1056, 13, 2090, 1646, 515, 3, 319, 190, 443, 5, 531, 17, 16, 53, 1878, 4, 46, 13, 4507, 94, 39, 135, 9, 929, 9, 195, 25, 1007, 170, 4, 1, 19, 17, 9, 262, 1, 2532, 4, 10, 3, 273, 40, 443, 5, 531, 4, 96, 181, 9586, 213, 99, 142, 4508, 15, 240, 298, 9, 2897, 401, 11, 19, 30, 29]\n",
      "Padded Sentence 2: [ 0.  0.  0. ... 19. 30. 29.]\n",
      "Tokenized Sentence 3: [2445, 6894, 1, 12119, 3232, 2898, 8, 2, 1008, 1602, 3, 1879, 904, 3, 1697, 8011, 184, 790, 370, 14, 32, 205, 328, 5, 74, 7, 7, 17, 222, 20, 342, 2, 16733, 1057, 1, 92, 4, 3233, 444, 12120, 5, 12121, 494, 2, 5425, 416, 2, 5425, 3, 5, 16734, 1, 1137, 494, 87, 12122, 6066, 10, 42, 20, 1, 2770, 15, 987, 4, 1, 449, 7, 7, 164, 58, 3056, 5426, 12, 590, 20, 1, 1880, 429, 4, 1, 4925, 296, 1, 16735, 2016, 3234, 390, 2445, 3, 1089, 861, 5, 25, 2648, 3233, 444, 15, 9587, 1, 1880, 2649, 15, 1, 297, 1283, 1312, 7, 7, 1880, 815, 27, 3235, 15, 2, 9588, 3057, 527, 4, 790, 9589, 16, 11, 2446, 103, 39, 5, 3236, 132, 382, 8, 4509]\n",
      "Padded Sentence 3: [   0.    0.    0. ...  382.    8. 4509.]\n"
     ]
    }
   ],
   "source": [
    "print(\"Padded Training Data\")\n",
    "for i in range(3):\n",
    "    print(f\"Tokenized Sentence {i+1}: {X_train_token[i]}\")\n",
    "    print(f\"Padded Sentence {i+1}: {X_train_padded[i]}\")"
   ]
  },
  {
   "cell_type": "code",
   "execution_count": 9,
   "metadata": {},
   "outputs": [
    {
     "data": {
      "text/plain": [
       "((2500, 1164), (2500, 988))"
      ]
     },
     "execution_count": 9,
     "metadata": {},
     "output_type": "execute_result"
    }
   ],
   "source": [
    "X_train_padded.shape, X_test_padded.shape"
   ]
  },
  {
   "cell_type": "markdown",
   "metadata": {},
   "source": [
    "# The RNN"
   ]
  },
  {
   "cell_type": "markdown",
   "metadata": {},
   "source": [
    "Let's now feed this data to a Recurrent Neural Network.\n",
    "\n",
    "❓ **Question** ❓ Write a model that has:\n",
    "- an embedding layer whose `input_dim` is the size of your vocabulary (= your `vocab_size`), and whose `output_dim` is the size of the embedding space you want to have\n",
    "- a RNN (SimpleRNN, LSTM, GRU) layer\n",
    "- a Dense layer\n",
    "- an output layer\n",
    "\n",
    "⚠️ **Warning** ⚠️ Here, you don't need a masking layer. Why? Because `layers.Embedding` has a argument to do that directly, which you have to set with `mask_zero=True`. That also means that your data **HAS TO** be padded with **0** (which is the default behavior). See the [documentation](https://www.tensorflow.org/api_docs/python/tf/keras/layers/Embedding#example_2) to understand how it **impacts** the `input_dim`.\n",
    "\n",
    "<details>\n",
    "    <summary>💡 Hint</summary>\n",
    "\n",
    "`input_dim` should equal size of vocabulary + 1\n",
    "\n",
    "</details>\n",
    "\n",
    "Compile it with the appropriate arguments"
   ]
  },
  {
   "cell_type": "code",
   "execution_count": 10,
   "metadata": {
    "tags": [
     "challengify"
    ]
   },
   "outputs": [],
   "source": [
    "from tensorflow.keras.models import Sequential\n",
    "from tensorflow.keras.layers import Embedding, SimpleRNN, Dense"
   ]
  },
  {
   "cell_type": "code",
   "execution_count": 18,
   "metadata": {},
   "outputs": [],
   "source": [
    "input_dim = vocab_size + 1\n",
    "output_dim = 128\n",
    "rnn_units = 64"
   ]
  },
  {
   "cell_type": "code",
   "execution_count": 12,
   "metadata": {},
   "outputs": [],
   "source": [
    "model = Sequential([\n",
    "    Embedding(input_dim=input_dim, output_dim=output_dim, mask_zero=True),\n",
    "    SimpleRNN(rnn_units, return_sequences=False), # es false porque no estoy  intentando pasar mi salida a otra capa, estoy interesada en la salida tal cual.\n",
    "    Dense(30, activation='relu'),\n",
    "    Dense(1, activation='sigmoid')\n",
    "])"
   ]
  },
  {
   "cell_type": "code",
   "execution_count": 13,
   "metadata": {},
   "outputs": [],
   "source": [
    "from tensorflow.keras.optimizers import RMSprop"
   ]
  },
  {
   "cell_type": "code",
   "execution_count": 15,
   "metadata": {},
   "outputs": [],
   "source": [
    "optimizer = RMSprop(learning_rate=0.001)"
   ]
  },
  {
   "cell_type": "code",
   "execution_count": 16,
   "metadata": {},
   "outputs": [],
   "source": [
    "model.compile(loss='binary_crossentropy', optimizer=optimizer, metrics=['accuracy'])"
   ]
  },
  {
   "cell_type": "code",
   "execution_count": 17,
   "metadata": {},
   "outputs": [
    {
     "name": "stdout",
     "output_type": "stream",
     "text": [
      "Model: \"sequential\"\n",
      "_________________________________________________________________\n",
      " Layer (type)                Output Shape              Param #   \n",
      "=================================================================\n",
      " embedding (Embedding)       (None, None, 128)         3893760   \n",
      "                                                                 \n",
      " simple_rnn (SimpleRNN)      (None, 64)                12352     \n",
      "                                                                 \n",
      " dense (Dense)               (None, 30)                1950      \n",
      "                                                                 \n",
      " dense_1 (Dense)             (None, 1)                 31        \n",
      "                                                                 \n",
      "=================================================================\n",
      "Total params: 3,908,093\n",
      "Trainable params: 3,908,093\n",
      "Non-trainable params: 0\n",
      "_________________________________________________________________\n"
     ]
    }
   ],
   "source": [
    "model.summary()"
   ]
  },
  {
   "cell_type": "markdown",
   "metadata": {},
   "source": [
    "❓ **Question** ❓ Look at the number of parameters in your RNN. "
   ]
  },
  {
   "cell_type": "code",
   "execution_count": null,
   "metadata": {
    "tags": [
     "challengify"
    ]
   },
   "outputs": [],
   "source": [
    "# YOUR CODE HERE"
   ]
  },
  {
   "cell_type": "markdown",
   "metadata": {},
   "source": [
    "❓ Double-check that the number of parameters in your embedding layer is equal to the (number of words in your vocabulary + 1 for the masking value) $\\times$  the dimension of your embedding."
   ]
  },
  {
   "cell_type": "code",
   "execution_count": null,
   "metadata": {
    "tags": [
     "challengify"
    ]
   },
   "outputs": [],
   "source": [
    "# YOUR CODE HERE"
   ]
  },
  {
   "cell_type": "markdown",
   "metadata": {},
   "source": [
    "❓ **Question** ❓ Start fitting your model with 20 epochs, with an early stopping criterion whose patience is equal to 4.\n",
    "\n",
    "⚠️ **Warning** ⚠️ You might see that it takes a lot of time! \n",
    "\n",
    "**So stop it after a couple of iterations!**"
   ]
  },
  {
   "cell_type": "code",
   "execution_count": null,
   "metadata": {
    "tags": [
     "challengify"
    ]
   },
   "outputs": [],
   "source": [
    "# YOUR CODE HERE"
   ]
  },
  {
   "cell_type": "markdown",
   "metadata": {},
   "source": [
    "Let's not waste too much time just staring at our screen or having coffees. It is too early to start having breaks ;)\n",
    "\n",
    "❓ **Question** ❓ We will reduce the computational time. To start, let's first look at how many words there are in the different sentences of your train set (Just run the following cell)."
   ]
  },
  {
   "cell_type": "code",
   "execution_count": null,
   "metadata": {},
   "outputs": [],
   "source": [
    "import matplotlib.pyplot as plt\n",
    "%matplotlib inline\n",
    "\n",
    "def plot_hist(X):\n",
    "    len_ = [len(_) for _ in X]\n",
    "    plt.hist(len_)\n",
    "    plt.title('Histogram of the number of sentences that have a given number of words')\n",
    "    plt.show()\n",
    "    \n",
    "plot_hist(X_train)\n"
   ]
  },
  {
   "cell_type": "markdown",
   "metadata": {},
   "source": [
    "You will probably see that 90 to 95% of your sentences have less than 300 words. And very few have more than 1000.\n",
    "\n",
    "However, as you didn't use `maxlen` in your padding above, your input tensor has a dimension equal to the length of the sentence that has the maximum number of words.\n",
    "\n",
    "Now, let's look at how this affects the padding: \n",
    "\n",
    "\n",
    "<img src=\"tensor_size.png\" alt='Word2Vec' width=\"700px\" />\n",
    "\n",
    "Because of a few of very long sentences, one dimension of your tensor is equal to around 1000. However, most of the sentences with ~200 words have just padded values that are useless.\n",
    "\n",
    "So your tensor is mostly useless information, which still adds time to the training process.\n",
    "\n",
    "But what if you pad the data to a maximum length (`maxlen`) of say 200 (words)?\n",
    "- First, that would increase the convergence and you would not need to stare at your screen while waiting for the algorithm to converge\n",
    "- But in essence, do you really lose that much information? Do you think that you often need more than 200 words (up to 1000) to tell whether or not a sentence is positive of negative?\n",
    "\n",
    "❓ **Question** ❓ For all these reasons, re-do your padding using the `maxlen` keyword and retrain the model!  See how much faster it is now - without hurting the performance ;)"
   ]
  },
  {
   "cell_type": "code",
   "execution_count": null,
   "metadata": {
    "tags": [
     "challengify"
    ]
   },
   "outputs": [],
   "source": [
    "# YOUR CODE HERE"
   ]
  },
  {
   "cell_type": "markdown",
   "metadata": {},
   "source": [
    "🏁 Nice, you are now able to use `Tokenizer` and `pad_sequences`\n",
    "\n",
    "💾 Don't forget to git add/commit/push your notebook...\n",
    "\n",
    "🚀 ... and move on to the next challenge!"
   ]
  }
 ],
 "metadata": {
  "kernelspec": {
   "display_name": "Python 3 (ipykernel)",
   "language": "python",
   "name": "python3"
  },
  "language_info": {
   "codemirror_mode": {
    "name": "ipython",
    "version": 3
   },
   "file_extension": ".py",
   "mimetype": "text/x-python",
   "name": "python",
   "nbconvert_exporter": "python",
   "pygments_lexer": "ipython3",
   "version": "3.10.6"
  }
 },
 "nbformat": 4,
 "nbformat_minor": 4
}
